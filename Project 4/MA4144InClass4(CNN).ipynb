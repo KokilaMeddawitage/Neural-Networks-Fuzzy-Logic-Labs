{
 "cells": [
  {
   "cell_type": "markdown",
   "id": "6466a837-a464-4fab-b6fe-15913f6865cd",
   "metadata": {
    "deletable": false,
    "editable": false,
    "slideshow": {
     "slide_type": ""
    },
    "tags": []
   },
   "source": [
    "# <center>Convolutional Neural Networks</center>\n",
    "## <center>Inclass Project 4 - MA4144</center>\n",
    "\n",
    "This project contains 5 tasks/questions to be completed, some require written answers. Questions that required written answers are given in blue fonts. Almost all written questions are open ended, they do not have a correct or wrong answer. You are free to give your opinions, but please provide related answers within the context.\n",
    "\n",
    "After finishing project run the entire notebook once and **save the notebook as a pdf** (File menu -> Save and Export Notebook As -> PDF). You are **required to upload both the PDF and the ipynb file on moodle**.\n",
    "\n",
    "***"
   ]
  },
  {
   "cell_type": "markdown",
   "id": "a24d2f69-cbb0-493e-8c02-54797486ad9f",
   "metadata": {
    "deletable": false,
    "editable": false
   },
   "source": [
    "## Outline of the project\n",
    "\n",
    "The aim of the project is to practically learn and implement about CNN. This project will have two main sections.\n",
    "\n",
    "Section 1: Build a convolutional layer and pooling layer from scratch. Then test them on a sample image.\n",
    "\n",
    "Section 2: Use the Keras library to implement a CNN to classify images on the [CIFAR10 dataset](https://www.cs.toronto.edu/~kriz/cifar.html).\n",
    "\n",
    "***\n"
   ]
  },
  {
   "cell_type": "markdown",
   "id": "6d573efd-555a-4a13-a643-7047a622c5da",
   "metadata": {
    "deletable": false,
    "editable": false
   },
   "source": [
    "Use the below cell to use any include any imports"
   ]
  },
  {
   "cell_type": "code",
   "execution_count": 1,
   "id": "28c42483-43aa-4c2b-bb09-2271f79575f2",
   "metadata": {},
   "outputs": [],
   "source": [
    "import numpy as np\n",
    "import matplotlib.pyplot as plt\n",
    "import random\n",
    "from keras.preprocessing.image import load_img\n",
    "import keras\n",
    "from scipy import signal"
   ]
  },
  {
   "cell_type": "markdown",
   "id": "0bba6e17-45d9-4b7c-a55a-11fd54f339f7",
   "metadata": {
    "deletable": false,
    "editable": false
   },
   "source": [
    "## Section 1: Convolution and Pooling"
   ]
  },
  {
   "cell_type": "markdown",
   "id": "4ba6a9ab-0a2b-484b-8768-27341130e95c",
   "metadata": {
    "deletable": false,
    "editable": false
   },
   "source": [
    "**Q1** In the following cell, implement a method called create_padding. The method will take in input_image ($n \\times m$) and will return a zero-padded image called output_image of dimension $(n + 2d) \\times (m + 2d)$ where $d$ is the padding thickness on either side."
   ]
  },
  {
   "cell_type": "code",
   "execution_count": 2,
   "id": "436516b6-4605-4ec1-bd90-e151bcf13193",
   "metadata": {},
   "outputs": [],
   "source": [
    "def create_padding(input_image, d):\n",
    "\n",
    "    #TODO\n",
    "\n",
    "    return output_image\n",
    "    "
   ]
  },
  {
   "cell_type": "code",
   "execution_count": null,
   "id": "709cf841-c0eb-4009-bf28-4e53a744b567",
   "metadata": {},
   "outputs": [],
   "source": []
  },
  {
   "cell_type": "markdown",
   "id": "0ecc84b9-45d1-4b3b-8b62-ceec2f8ec197",
   "metadata": {
    "deletable": false,
    "editable": false
   },
   "source": [
    "**Q2** In the following cell, implement a method called convolution. The method will take in input_image ($n \\times m$), kernel ($k \\times k$) and will return output_image of dimension $(n - k + 1) \\times (m - k + 1)$. The output_image is the result of the convolution between input_image and kernel. You may assume that the stride is $1$."
   ]
  },
  {
   "cell_type": "code",
   "execution_count": 3,
   "id": "1a499990-72b2-4928-a5fd-e2f9c93b8f27",
   "metadata": {
    "nbgrader": {
     "grade": false,
     "grade_id": "cell-868092c86334bf93",
     "locked": false,
     "schema_version": 3,
     "solution": true,
     "task": false
    }
   },
   "outputs": [],
   "source": [
    "def convolution(input_image, kernel):\n",
    "\n",
    "    #TODO\n",
    "\n",
    "    return output_image"
   ]
  },
  {
   "cell_type": "markdown",
   "id": "f9977456-e30f-471d-9da2-0bec83f2a641",
   "metadata": {
    "deletable": false,
    "editable": false
   },
   "source": [
    "**Q3** In the following cell, implement a method called pooling. The method will take in input_image ($n \\times m$), $p$ the pooling dimension, pooling_type (either max_pooling or avg_pooling) and will return output_image of dimension $(n - p + 1) \\times (m - p + 1)$. The output_image is the result of performing pooling on input_image by a window of dimension $p \\times p$. You may assume that the stride is $1$."
   ]
  },
  {
   "cell_type": "code",
   "execution_count": null,
   "id": "db2a9a73-4fd7-4bb1-9612-6ebd2e824c72",
   "metadata": {},
   "outputs": [],
   "source": [
    "def pooling(input_image, p, pooling_type = \"max_pooling\"):\n",
    "\n",
    "    if pooling_type == \"max_pooling\":\n",
    "\n",
    "        #TODO\n",
    "        pass\n",
    "\n",
    "    elif pooling_type == \"avg_pooling\":\n",
    "\n",
    "        #TODO\n",
    "        pass\n",
    "\n",
    "    else:\n",
    "        print(\"Error: Invalid pooling type\")\n",
    "        return\n",
    "\n",
    "    return(output_image)\n",
    "    "
   ]
  },
  {
   "cell_type": "code",
   "execution_count": null,
   "id": "7af70f4a-f4d1-4d50-8498-f0339e34087e",
   "metadata": {},
   "outputs": [],
   "source": []
  },
  {
   "cell_type": "markdown",
   "id": "2a5266d8-3d55-438f-b504-6f4465f7a543",
   "metadata": {
    "deletable": false,
    "editable": false
   },
   "source": [
    "The 'lena' image is widely used for image processing experiments and has been a benchmark image until recently.\n",
    "We will use a $512 \\times 512$ grayscale lena sample to test our convolution and pooling implementations."
   ]
  },
  {
   "cell_type": "code",
   "execution_count": 1,
   "id": "367be264-29a8-4da5-9b92-91a04fa3138f",
   "metadata": {},
   "outputs": [],
   "source": [
    "lena = load_img('lena.gif')\n",
    "plt.imshow(lena)\n",
    "plt.show()"
   ]
  },
  {
   "cell_type": "markdown",
   "id": "49287d33-2203-4a5c-a059-e79c06e4f0b0",
   "metadata": {
    "deletable": false,
    "editable": false
   },
   "source": [
    "**Q4** In the following perform convolution on lena. Make sure you use padding appropriately to maintain the image size after convolution. However, pooling should be done on an unpadded image and image size may not be preseved after pooling. Use the following kernels to perform convolution and pooling separately.\n",
    "\n",
    "1. $\\begin{bmatrix} +1 & 0 & -1 \\\\ +1 & 0 & -1 \\\\ +1 & 0 & -1 \\end{bmatrix}$\n",
    "   \n",
    "2. $\\begin{bmatrix} -1 & -1 & -1 \\\\ 0 & 0 & 0 \\\\ +1 & +1 & +1 \\end{bmatrix}$\n",
    " \n",
    "3. $\\begin{bmatrix} -1 & 0 & +1 \\\\ -2 & 0 & +2 \\\\ -1 & 0 & +1 \\end{bmatrix}$\n",
    "\n",
    "4. $\\begin{bmatrix} +1 & +2 & +1 \\\\ 0 & 0 & 0 \\\\ -1 & -2 & -1 \\end{bmatrix}$\n",
    "\n",
    "5. Any other kernel that you may find interesting.\n",
    "\n",
    "The following outputs are expected:\n",
    "1. lena kernel 1 convolution and then max pooled, set your output to the variable lena_kernel_1_maxpool.\n",
    "2. lena kernel 2 convolution and then average pooled, set your output to the variable lena_kernel_2_avgpool.\n",
    "3. lena kernel 3 convolution and then max pooled, set your output to the variable lena_kernel_3_maxpool.\n",
    "4. lena kernel 4 convolution and then average pooled, set your output to the variable lena_kernel_4_avgpool."
   ]
  },
  {
   "cell_type": "code",
   "execution_count": 5,
   "id": "19842771-c709-4ba0-a730-d0bf6332bb50",
   "metadata": {},
   "outputs": [],
   "source": [
    "#TODO\n",
    "#Write code to use your convolution and pooling methods.\n",
    "\n",
    "lena_kernel_1_maxpool = None\n",
    "lena_kernel_2_avgpool = None\n",
    "lena_kernel_3_maxpool = None\n",
    "lena_kernel_4_avgpool = None"
   ]
  },
  {
   "cell_type": "markdown",
   "id": "44c9681d-5c74-4d5b-89d7-ec7db448c6e5",
   "metadata": {
    "deletable": false,
    "editable": false
   },
   "source": [
    "<font color='blue'>Explain what each of the above kernels (including your choice) will do to the image.</font>"
   ]
  },
  {
   "cell_type": "code",
   "execution_count": null,
   "id": "b01121bd-a565-4e51-a7bf-b6935d2f764f",
   "metadata": {
    "deletable": false
   },
   "outputs": [],
   "source": [
    "#Write your answers as a string (max 2 sentences per kernel)\n",
    "\n",
    "Ans_Kernel_1 = \"\"\n",
    "Ans_Kernel_2 = \"\"\n",
    "Ans_Kernel_3 = \"\"\n",
    "Ans_Kernel_4 = \"\"\n",
    "Ans_Kernel_5 = \"\""
   ]
  },
  {
   "cell_type": "markdown",
   "id": "6eba4f32-7039-47ab-b019-28d29b7ff5e4",
   "metadata": {
    "deletable": false,
    "editable": false
   },
   "source": [
    "Show the resulting image after convolution and pooling separately on two subplots (of the same plot) for each kernel. There should be 5 plots with two sub plots in each."
   ]
  },
  {
   "cell_type": "markdown",
   "id": "fc2e944b-e2af-43eb-9533-75a531cf9918",
   "metadata": {
    "deletable": false,
    "editable": false
   },
   "source": [
    "## Section 2: Using Keras to implement CNN for image classification"
   ]
  },
  {
   "cell_type": "markdown",
   "id": "3a5bf377-0044-446d-b144-836da249211c",
   "metadata": {
    "deletable": false,
    "editable": false
   },
   "source": [
    "This section, unlike the previous projects you are granted full liberty to **build the structure of your model appropriately using keras**. I have provided only the code to download the cifar10 dataset. (Note that cifar10 contains rgb images with 3 channels unlike the grayscake image lena we used earlier.)\n",
    "\n",
    "**Final expected outcome:** For the best CNN model architecture and parameters you find, **your model is required to be able to provide accurate predictions**. The **accuracy rate will determine your score**. Make sure you **normalize the input training/testing images to $[0, 1]$** before training. For this **implement a predict function** - instructions given below.\n",
    "\n",
    "Hint: To improve your model you may use the following techniques. \n",
    "1. 5-fold cross validation accuracy.\n",
    "2. Testing accuracy.\n",
    "3. Confusion matrix of the result.\n",
    "4. Precision recall for each class.\n",
    "\n",
    "Test on different hyperparameters and network architectures and select decide the best performer based on the cross-validation accuracy."
   ]
  },
  {
   "cell_type": "code",
   "execution_count": null,
   "id": "d6467e47-48e8-45d2-b20d-547bc5641289",
   "metadata": {},
   "outputs": [],
   "source": [
    "(x_train, y_train), (x_test, y_test) = keras.datasets.cifar10.load_data()"
   ]
  },
  {
   "cell_type": "code",
   "execution_count": null,
   "id": "2d471838-fda3-457d-a053-7118e5dd6a07",
   "metadata": {},
   "outputs": [],
   "source": [
    "#TODO\n",
    "\n",
    "#Include necessary code in this cell to train and test\n"
   ]
  },
  {
   "cell_type": "code",
   "execution_count": null,
   "id": "d0d26d26-1a6b-476a-8735-732f604befa0",
   "metadata": {},
   "outputs": [],
   "source": [
    "#In this cell define the function predict, which will predict the class of test_images using your best CNN-model.\n",
    "#The output should be a python list of strings of classes (airplane, automobile, bird, cat, deer, dog, frog, horse, ship, truck)\n",
    "#Your work will be mainly evaluated based on this.\n",
    "#The grader will test it against input images and your score will be determined based on the number of correct predictions. \n",
    "#Expect the input to be a torch tensor of shape [64, 3, 32, 32] with normalized values [0, 1]\n",
    "\n",
    "def predict(test_images):\n",
    "\n",
    "    #TODO\n",
    "    \n",
    "    return predictions"
   ]
  },
  {
   "cell_type": "code",
   "execution_count": null,
   "id": "1ca5f9d7-01ac-48fc-b6af-a2eff6d4fa04",
   "metadata": {},
   "outputs": [],
   "source": []
  }
 ],
 "metadata": {
  "kernelspec": {
   "display_name": "Python 3 (ipykernel)",
   "language": "python",
   "name": "python3"
  },
  "language_info": {
   "codemirror_mode": {
    "name": "ipython",
    "version": 3
   },
   "file_extension": ".py",
   "mimetype": "text/x-python",
   "name": "python",
   "nbconvert_exporter": "python",
   "pygments_lexer": "ipython3",
   "version": "3.12.10"
  }
 },
 "nbformat": 4,
 "nbformat_minor": 5
}
