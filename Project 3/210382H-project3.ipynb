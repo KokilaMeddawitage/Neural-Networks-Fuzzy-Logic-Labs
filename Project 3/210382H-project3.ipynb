{
 "cells": [
  {
   "cell_type": "markdown",
   "id": "dda0e25f-476a-43c0-b3e7-f96a707be566",
   "metadata": {
    "deletable": false,
    "editable": false,
    "slideshow": {
     "slide_type": ""
    },
    "tags": []
   },
   "source": [
    "# <center>Recurrent Neural Networks</center>\n",
    "## <center>Inclass Project 3 - MA4144</center>\n",
    "\n",
    "This project contains multiple tasks to be completed, some require written answers. Questions that required written answers are given in blue fonts. Almost all written questions are open ended, they do not have a correct or wrong answer. You are free to give your opinions, but please provide related answers within the context.\n",
    "\n",
    "After finishing project run the entire notebook once and **save the notebook as a pdf** (File menu -> Save and Export Notebook As -> PDF). You are **required to upload both this ipynb file and the PDF on moodle**.\n",
    "\n",
    "***"
   ]
  },
  {
   "cell_type": "markdown",
   "id": "03930b71-f7aa-4eb8-a078-70fc89a1ac16",
   "metadata": {
    "deletable": false,
    "editable": false
   },
   "source": [
    "## Outline of the project\n",
    "\n",
    "The aim of the project is to build a RNN model to suggest autocompletion of half typed words. You may have seen this in many day today applications; typing an email, a text message etc. For example, suppose you type in the four letter \"univ\", the application may suggest you to autocomplete it by \"university\".\n",
    "\n",
    "![Autocomplete](https://d33v4339jhl8k0.cloudfront.net/docs/assets/5c12e83004286304a71d5b72/images/66d0cb106eb51e63b8f9fbc6/file-gBQe016VYt.gif)\n",
    "\n",
    "We will train a RNN to suggest possible autocompletes given $3$ - $4$ starting letters. That is if we input a string \"univ\" hopefully we expect to see an output like \"university\", \"universal\" etc.\n",
    "\n",
    "For this we will use a text file (wordlist.txt) containing 10,000 common English words (you'll find the file on the moodle link). The list of words will be the \"**vocabulary**\" for our model.\n",
    "\n",
    "We will use the Python **torch library** to implement our autocomplete model. \n",
    "\n",
    "***\n"
   ]
  },
  {
   "cell_type": "markdown",
   "id": "f4db6bc0-f7e0-473d-a172-e6579deea2ee",
   "metadata": {
    "deletable": false,
    "editable": false
   },
   "source": [
    "Use the below cell to use any include any imports"
   ]
  },
  {
   "cell_type": "code",
   "execution_count": 1,
   "id": "76fdc286-3211-4a8f-9802-29d28a324bea",
   "metadata": {
    "deletable": false,
    "editable": true,
    "slideshow": {
     "slide_type": ""
    },
    "tags": []
   },
   "outputs": [
    {
     "data": {
      "text/plain": [
       "False"
      ]
     },
     "execution_count": 1,
     "metadata": {},
     "output_type": "execute_result"
    }
   ],
   "source": [
    "import math\n",
    "import torch\n",
    "import torch.nn as nn\n",
    "import torch.optim as optim\n",
    "import numpy as np\n",
    "import matplotlib.pyplot as plt\n",
    "import random\n",
    "\n",
    "torch.cuda.is_available()"
   ]
  },
  {
   "cell_type": "markdown",
   "id": "8622b61b-dba8-47bb-8e07-92b77e78f4fa",
   "metadata": {
    "deletable": false,
    "editable": false
   },
   "source": [
    "## Section 1: Preparing the vocabulary"
   ]
  },
  {
   "cell_type": "code",
   "execution_count": 2,
   "id": "555a82e5-e56c-4075-a2a2-071633cd4d4c",
   "metadata": {
    "deletable": false
   },
   "outputs": [],
   "source": [
    "WORD_SIZE = 13"
   ]
  },
  {
   "cell_type": "markdown",
   "id": "ef4f44ef-91d0-4d0e-afb5-a66240c9e1d4",
   "metadata": {
    "deletable": false,
    "editable": false,
    "id": "Instructions"
   },
   "source": [
    "**Q1.** In the following cell provide code to load the text file (each word is in a newline), then extract the words (in lowercase) into a list.\n",
    "\n",
    "For practical reasons of training the model we will only use words that are longer that $3$ letters and that have a maximum length of WORD_SIZE (this will be a constant we set at the beginning - you can change this and experiment with different WORD_SIZEs). As seen above it is set to $13$.\n",
    "\n",
    "So out of the extracted list of words filter out those words that match our criteria on word length.\n",
    "\n",
    "To train our model it is convenient to have words/strings of equal length. We will choose to convert every word to length of WORD_SIZE, by adding underscores to the end of the word if it is initially shorter than WORD_SIZE. For example, we will convert the word \"university\" (word length 10) into \"university___\" (wordlength 13). In your code include this conversion as well.\n",
    "\n",
    "Store the processed WORD_SIZE lengthed strings in a list called vocab."
   ]
  },
  {
   "cell_type": "code",
   "execution_count": 3,
   "id": "3219551c-a298-424a-a491-2d7f65a4ad6f",
   "metadata": {
    "deletable": false
   },
   "outputs": [
    {
     "data": {
      "text/plain": [
       "7720"
      ]
     },
     "execution_count": 3,
     "metadata": {},
     "output_type": "execute_result"
    }
   ],
   "source": [
    "with open(\"wordlist.txt\", \"r\", encoding=\"utf-8\") as f:\n",
    "    words = [w.strip().lower() for w in f if w.strip()]\n",
    "\n",
    "filtered_words = [w for w in words if 4 < len(w) <= WORD_SIZE]\n",
    "vocab = [w.ljust(WORD_SIZE, \"_\") for w in filtered_words]\n",
    "\n",
    "len(vocab)"
   ]
  },
  {
   "cell_type": "markdown",
   "id": "69d3a6fe-c0a7-4808-aa1a-4c3ad6db6de3",
   "metadata": {
    "deletable": false,
    "editable": false,
    "slideshow": {
     "slide_type": ""
    },
    "tags": []
   },
   "source": [
    "<font color='blue'>In the above explanation it was mentioned \"for practical reasons of training the model we will only use words that are longer that $3$ letters and that have a certain maximum length\". In your opinion what could be those practical? Will hit help to build a better model?</font>"
   ]
  },
  {
   "cell_type": "markdown",
   "id": "aaf86cdd-96b2-40eb-8230-c3f04e93cfc4",
   "metadata": {
    "deletable": false,
    "editable": true,
    "id": "Ans1",
    "slideshow": {
     "slide_type": ""
    },
    "tags": []
   },
   "source": [
    "**Answer**\n",
    "Limiting the vocabulary to words longer than 3 letters and shorter than a fixed maximum keeps training practical and efficient. Very short words add little predictive value, while very long ones increase sequence length, memory use, and padding overhead, slowing training and introducing outliers. By focusing on typical word lengths, the RNN processes more consistent data, converges faster, and generalizes better for autocompletion without wasting resources."
   ]
  },
  {
   "cell_type": "markdown",
   "id": "552b2e6d-f771-4782-8b21-73c121565faa",
   "metadata": {
    "deletable": false,
    "editable": false
   },
   "source": [
    "**Q2** To input words into the model, we will need to convert each letter/character into a number. as we have seen above, the only characters in our list vocab will be the underscore and lowercase english letters. so we will convert these $27$ characters into numbers as follows: underscore -> $0$, 'a' -> $1$, 'b' -> $2$, $\\cdots$, 'z' -> $26$. In the following cell,\n",
    "\n",
    "(i) Implement a method called char_to_num, that takes in a valid character and outputs its numerical assignment.\n",
    "\n",
    "(ii) Implement a method called num_to_char, that takes in a valid number from $0$ to $26$ and outputs the corresponding character.\n",
    "\n",
    "(iii) Implement a method called word_to_numlist, that takes in a word from our vocabulary and outputs a (torch) tensor of numbers that corresponds to each character in the word in that order. For example: the word \"united_______\" will be converted to tensor([21, 14,  9, 20,  5,  4,  0,  0,  0,  0,  0,  0,  0]). You are encouraged to use your char_to_num method for this.\n",
    "\n",
    "(iv) Implement a method called numlist_to_word, that does the opposite of the above described word_to_numlist, given a tensor of numbers from $0$ to $26$, outputs the corresponding word. You are encouraged to use your  num_to_char method for this.\n",
    "\n",
    "Note: As mentioned since we are using the torch library we will be using tensors instead of the usual python lists or numpy arrays. Tensors are the list equivalent in torch. Torch models only accept tensors as input and they output tensors."
   ]
  },
  {
   "cell_type": "code",
   "execution_count": 4,
   "id": "054a4ab4-5883-4948-adc5-eb8916b6234d",
   "metadata": {
    "deletable": false,
    "editable": true,
    "slideshow": {
     "slide_type": ""
    },
    "tags": []
   },
   "outputs": [],
   "source": [
    "def char_to_num(char):\n",
    "    if char == \"_\":\n",
    "        return 0\n",
    "    return ord(char) - ord('a') + 1\n",
    "\n",
    "def num_to_char(num):\n",
    "    if num == 0:\n",
    "        return \"_\"\n",
    "    return chr(ord('a') + num - 1)\n",
    "\n",
    "def word_to_numlist(word):\n",
    "    return torch.tensor([char_to_num(c) for c in word], dtype=torch.long)\n",
    "\n",
    "def numlist_to_word(numlist):\n",
    "    return ''.join(num_to_char(int(n)) for n in numlist)"
   ]
  },
  {
   "cell_type": "markdown",
   "id": "028d1936-fadb-4ddb-9027-3a75960aa6b1",
   "metadata": {
    "deletable": false,
    "editable": false
   },
   "source": [
    "<font color='blue'>We convert letter into just numbers based on their aphabetical order, I claim that it is a very bad way to encode data such as letters to be fed into learning models, please write your explanation to or against my claim. If you are searching for reasons, the keyword 'categorical data' may be useful. Although the letters in our case are not treated as categorical data, the same reasons as for categorical data is applicable. Even if my claim is valid, at the end it won't matter due to something called \"embedding layers\" that we will use in our model. What is an embedding layer? What is it's purpose? Explain.</font> (write answers in the cell below as a string)"
   ]
  },
  {
   "cell_type": "code",
   "execution_count": 5,
   "id": "e29cb406-1f95-46c3-a1e2-d13fe0ed557b",
   "metadata": {
    "deletable": false,
    "editable": true,
    "id": "Ans2",
    "slideshow": {
     "slide_type": ""
    },
    "tags": []
   },
   "outputs": [],
   "source": [
    "#Write answer here as strings:\n",
    "\n",
    "answer_ = \"Yes, the claim is valid. Converting letters to numbers based on alphabetical order introduces artificial ordinal relationships that don't exist between categories. For example, in the mapping 'a' -> 1, 'b' -> 2, 'z' -> 26, the model may incorrectly assume that 'z' is 'larger' or more similar to 'y' than to 'a', which has no meaningful basis in language. This is a common problem with categorical data encoding. An embedding layer is a trainable layer in a neural network that maps discrete input tokens (like characters or words) to dense, continuous vectors. Its purpose is to represent categorical data in a way that captures semantic meaning and relationships: instead of treating inputs as arbitrary indices, the embedding layer learns feature-rich representations where similar items are placed closer together in vector space. This makes it easier for the model to detect patterns and generalize effectively, completely solving the ordinal encoding problem.\""
   ]
  },
  {
   "cell_type": "markdown",
   "id": "92070a74-0f42-435d-a3ba-b38f0d1aaf3c",
   "metadata": {
    "deletable": false,
    "editable": false
   },
   "source": [
    "## Section 2: Implementing the Autocomplete model"
   ]
  },
  {
   "cell_type": "markdown",
   "id": "6cbb965e-afcd-41ae-86f0-2f3d4682e18b",
   "metadata": {
    "deletable": false,
    "editable": false,
    "slideshow": {
     "slide_type": ""
    },
    "tags": []
   },
   "source": [
    "We will implement a RNN LSTM model. The [video tutorial](https://www.youtube.com/watch?v=tL5puCeDr-o) will be useful. Our model will be only one hidden layer, but feel free to sophisticate with more layers after the project for your own experiments.\n",
    "\n",
    "Our model will contain all the training and prediction methods as single package in a class (autocompleteModel) we will define and implement below."
   ]
  },
  {
   "cell_type": "code",
   "execution_count": 6,
   "id": "0dfe311c-669d-4d58-a833-ae3970b6d271",
   "metadata": {
    "deletable": false
   },
   "outputs": [],
   "source": [
    "LEARNING_RATE = 0.005"
   ]
  },
  {
   "cell_type": "code",
   "execution_count": 7,
   "id": "4976fc91-2c4e-497a-954e-9014dd31be5e",
   "metadata": {
    "deletable": false,
    "editable": true,
    "slideshow": {
     "slide_type": ""
    },
    "tags": []
   },
   "outputs": [],
   "source": [
    "class autocompleteModel(nn.Module):\n",
    "    \n",
    "    #Constructor\n",
    "    def __init__(self, alphabet_size, embed_dim, hidden_size, num_layers=1):\n",
    "        super().__init__()\n",
    "\n",
    "        #Set the input parameters to self parameters\n",
    "        self.alphabet_size = alphabet_size\n",
    "        self.embed_dim = embed_dim\n",
    "        self.hidden_size = hidden_size\n",
    "        self.num_layers = num_layers\n",
    "        self.device = \"cuda\" if torch.cuda.is_available() else \"cpu\"\n",
    "        \n",
    "        #Initialize the layers in the model:\n",
    "        #1 embedding layer, 1 - LSTM cell (hidden layer), 1 fully connected layer with linear activation\n",
    "        self.embedding = nn.Embedding(alphabet_size, embed_dim)\n",
    "        self.lstm = nn.LSTM(\n",
    "            input_size=embed_dim,\n",
    "            hidden_size=hidden_size,\n",
    "            num_layers=num_layers,\n",
    "            batch_first=True\n",
    "        )\n",
    "        self.fc = nn.Linear(hidden_size, alphabet_size)\n",
    "\n",
    "        self.to(self.device)\n",
    "\n",
    "    #Feedforward\n",
    "    def forward(self, character, hidden_state, cell_state):\n",
    "\n",
    "        #Perform feedforward in order\n",
    "        #1. Embed the input (one charcter represented by a number)\n",
    "        #2. Feed the embedded output to the LSTM cell\n",
    "        #3. Feed the LSTM output to the fully connected layer to obtain the output\n",
    "        #4. return the output, and both the hidden state and cell state from the LSTM cell output\n",
    "\n",
    "        x = character.view(1, 1).to(self.device)\n",
    "        emb = self.embedding(x)\n",
    "        lstm_out, (h, c) = self.lstm(emb, (hidden_state, cell_state))\n",
    "        logits = self.fc(lstm_out.squeeze(0).squeeze(0))\n",
    "        return logits, h, c\n",
    "\n",
    "    #Intialize the first hidden state and cell state (for the start of a word) as zero tensors of required length.\n",
    "    def initial_state(self, batch_size=1):\n",
    "        \n",
    "        h0 = torch.zeros(self.num_layers, batch_size, self.hidden_size, device=self.device)\n",
    "        c0 = torch.zeros(self.num_layers, batch_size, self.hidden_size, device=self.device)\n",
    "        \n",
    "        return (h0, c0)\n",
    "\n",
    "    #Train the model in epochs given the vocab, the training will be fed in batches of batch_size\n",
    "    def trainModel(self, vocab, epochs=5, batch_size=100):\n",
    "\n",
    "        #Convert the model into train mode\n",
    "        self.train()\n",
    "\n",
    "        #Set the optimizer (ADAM), you may need to provide the model parameters and learning rate\n",
    "        optimizer = optim.Adam(self.parameters(), lr=LEARNING_RATE)\n",
    "        criterion = nn.CrossEntropyLoss()\n",
    "\n",
    "        #Pre-tensorize vocab once\n",
    "        vocab_tensors = torch.stack([word_to_numlist(w) for w in vocab]).to(self.device)  # (N, WORD_SIZE)\n",
    "        N = vocab_tensors.size(0)\n",
    "        num_iter = math.ceil(N / batch_size)\n",
    "\n",
    "        #Keep a log of the loss at the end of each training cycle.\n",
    "        loss_log = []\n",
    "\n",
    "        for e in range(epochs):\n",
    "            epoch_loss = []\n",
    "\n",
    "            #TODO: Shuffle the vocab list the start of each epoch\n",
    "            perm = torch.randperm(N, device=self.device)\n",
    "            vocab_shuffled = vocab_tensors[perm]\n",
    "\n",
    "            for i in range(num_iter):\n",
    "                start = i * batch_size\n",
    "                end = min((i + 1) * batch_size, N)\n",
    "                batch = vocab_shuffled[start:end]\n",
    "\n",
    "                inputs  = batch[:, :-1].long()\n",
    "                targets = batch[:,  1:].long()\n",
    "\n",
    "                optimizer.zero_grad()\n",
    "                emb = self.embedding(inputs)\n",
    "                lstm_out, _ = self.lstm(emb)\n",
    "                logits = self.fc(lstm_out)\n",
    "                loss = criterion(logits.reshape(-1, self.alphabet_size),\n",
    "                                 targets.reshape(-1))\n",
    "                loss.backward()\n",
    "                optimizer.step()\n",
    "\n",
    "                loss_log.append(loss.detach().item())\n",
    "                epoch_loss.append(loss.detach().item())\n",
    "\n",
    "            # quick sanity check each epoch\n",
    "            print(f\"Epoch {e + 1}/{epochs}  ----  Avg Loss: {(sum(epoch_loss) / len(epoch_loss)):.4f}\")\n",
    "            \n",
    "        if len(loss_log) > 1:\n",
    "            plt.figure()\n",
    "            plt.plot(loss_log)\n",
    "            plt.xlabel(\"Training step (batches)\")\n",
    "            plt.ylabel(\"Avg cross-entropy loss\")\n",
    "            plt.title(\"Training loss\")\n",
    "            plt.show()\n",
    "\n",
    "    #Perform autocmplete given a sample of strings (typically 3-5 starting letters)\n",
    "    def autocomplete(self, sample, temperature = 0.3, greedy=True):\n",
    "\n",
    "        #Convert the model into evaluation mode\n",
    "        self.eval()\n",
    "        completed_list = []\n",
    "\n",
    "        #TODO: In the following loop for each sample item initialize hidden and cell states, then predict the remaining characters\n",
    "        #You will have to convert the output into a softmax (you may use your softmax method from the last project) probability distribution, then use torch.multinomial \n",
    "        with torch.no_grad():\n",
    "            for literal in sample:\n",
    "                # clamp prefix length and lowercase\n",
    "                prefix = (literal or \"\").lower()[:WORD_SIZE]\n",
    "    \n",
    "                # initialize hidden and cell states\n",
    "                h, c = self.initial_state(1)\n",
    "                logits = None\n",
    "    \n",
    "                # warm-up the LSTM with the known prefix\n",
    "                for ch in prefix:\n",
    "                    x = torch.tensor(char_to_num(ch), device=self.device).long()\n",
    "                    logits, h, c = self.forward(x, h, c)\n",
    "    \n",
    "                generated = list(prefix)\n",
    "    \n",
    "                # predict remaining characters up to WORD_SIZE\n",
    "                for _ in range(WORD_SIZE - len(prefix)):\n",
    "                    # if we already produced an underscore, keep padding underscores\n",
    "                    if len(generated) > 0 and generated[-1] == \"_\":\n",
    "                        x = torch.tensor(char_to_num(\"_\"), device=self.device).long()\n",
    "                        logits, h, c = self.forward(x, h, c)\n",
    "                        generated.append(\"_\")\n",
    "                        continue\n",
    "    \n",
    "                    # if no logits yet (empty prefix), seed with underscore\n",
    "                    if logits is None:\n",
    "                        x = torch.tensor(char_to_num(\"_\"), device=self.device).long()\n",
    "                        logits, h, c = self.forward(x, h, c)\n",
    "    \n",
    "                    if greedy:\n",
    "                        idx = torch.argmax(logits, dim=-1)\n",
    "                    else:\n",
    "                        probs = torch.softmax(logits / temperature, dim=-1)\n",
    "                        idx = torch.multinomial(probs, 1)\n",
    "                    ch = num_to_char(int(idx.item()))\n",
    "                    generated.append(ch)\n",
    "    \n",
    "                    # feed sampled char back in\n",
    "                    logits, h, c = self.forward(idx.long().to(self.device), h, c)\n",
    "    \n",
    "                completed_list.append(''.join(generated))\n",
    "                \n",
    "        return(completed_list)\n",
    "\n",
    "    def evaluate(self, test_samples):\n",
    "        try:\n",
    "            completions = self.autocomplete(test_samples)\n",
    "            score = 0\n",
    "            print(\"Results:\")\n",
    "            for sample, completion in zip(test_samples, completions):\n",
    "                clean_completion = completion.rstrip('_')\n",
    "                sample_score = 1 if any(word.rstrip('_').lower() == clean_completion.lower()\n",
    "                                        for word in vocab) else 0\n",
    "                mark = \" * Valid word in vocab\" if sample_score else \" ! Not a word in vocab\"\n",
    "                print(f\"  '{sample}' -> '{clean_completion}' {mark}\")\n",
    "                score += sample_score\n",
    "            return score, completions\n",
    "        except Exception as e:\n",
    "            print(f\"Error during evaluation: {e}\")\n",
    "            return 0, []\n"
   ]
  },
  {
   "cell_type": "markdown",
   "id": "1f9b5489-b770-4519-b20c-4f2beebfb8f9",
   "metadata": {
    "deletable": false,
    "editable": true
   },
   "source": [
    "## Section 3: Using and evaluating the model\n",
    "\n",
    "(i) Initialize and train autocompleteModels using different embedding dimensions and hidden layer sizes. Use different learning rates, epochs, batch sizes. Train the best model you can.\n",
    "\n",
    "(ii) Evaluate it on different samples of partially filled in words to test your model. Eg: [\"univ\", \"math\", \"neur\", \"engin\"] etc.\n",
    "\n",
    "(iii) Set your best model, to the variable best_model. This model will be tested against random inputs (3-4 starting strings of common English words). **This will be the main contributor for your score in this project**."
   ]
  },
  {
   "cell_type": "code",
   "execution_count": 8,
   "id": "ed8c6fd8-4086-43d1-be54-60f94d61a516",
   "metadata": {},
   "outputs": [],
   "source": [
    "EMBED_DIM = 100\n",
    "HIDDEN_SIZE = 128\n",
    "LEARNING_RATE = 0.005\n",
    "EPOCHS = 60\n",
    "BATCH_SIZE = 128\n",
    "\n",
    "test_samples = [\n",
    "    \"comp\", \"prog\", \"soft\", \"data\", \"algo\", \"code\", \"web\", \"net\", \"sys\", \"hack\",\n",
    "    \"math\", \"calc\", \"stat\", \"phys\", \"chem\", \"biol\", \"theo\", \"exp\", \"res\", \"lab\",\n",
    "    \"engin\", \"mech\", \"elec\", \"civil\", \"aero\", \"aut\", \"robo\", \"desi\", \"bui\", \"tool\",\n",
    "    \"mana\", \"lead\", \"team\", \"proj\", \"plan\", \"str\", \"mark\", \"sale\", \"cust\", \"serv\",\n",
    "    \"univ\", \"stud\", \"lear\", \"educ\", \"sch\", \"grad\", \"degr\", \"cour\", \"exam\", \"tes\",\n",
    "    \"medi\", \"heal\", \"nur\", \"doct\", \"hosp\", \"drug\", \"ther\", \"tre\", \"diag\", \"surg\",\n",
    "    \"arti\", \"des\", \"musi\", \"pain\", \"draw\", \"writ\", \"poet\", \"danc\", \"sin\", \"acto\",\n",
    "]"
   ]
  },
  {
   "cell_type": "code",
   "execution_count": 9,
   "id": "ca89598f-db9e-4cb7-93db-5d2128430f1a",
   "metadata": {},
   "outputs": [
    {
     "name": "stdout",
     "output_type": "stream",
     "text": [
      "Training model\n",
      "Epoch 1/60  ----  Avg Loss: 1.5827\n",
      "Epoch 2/60  ----  Avg Loss: 1.2679\n",
      "Epoch 3/60  ----  Avg Loss: 1.1904\n",
      "Epoch 4/60  ----  Avg Loss: 1.1382\n",
      "Epoch 5/60  ----  Avg Loss: 1.0940\n",
      "Epoch 6/60  ----  Avg Loss: 1.0575\n",
      "Epoch 7/60  ----  Avg Loss: 1.0220\n",
      "Epoch 8/60  ----  Avg Loss: 0.9946\n",
      "Epoch 9/60  ----  Avg Loss: 0.9664\n",
      "Epoch 10/60  ----  Avg Loss: 0.9443\n",
      "Epoch 11/60  ----  Avg Loss: 0.9213\n",
      "Epoch 12/60  ----  Avg Loss: 0.8997\n",
      "Epoch 13/60  ----  Avg Loss: 0.8804\n",
      "Epoch 14/60  ----  Avg Loss: 0.8638\n",
      "Epoch 15/60  ----  Avg Loss: 0.8474\n",
      "Epoch 16/60  ----  Avg Loss: 0.8310\n",
      "Epoch 17/60  ----  Avg Loss: 0.8200\n",
      "Epoch 18/60  ----  Avg Loss: 0.8088\n",
      "Epoch 19/60  ----  Avg Loss: 0.7957\n",
      "Epoch 20/60  ----  Avg Loss: 0.7839\n",
      "Epoch 21/60  ----  Avg Loss: 0.7734\n",
      "Epoch 22/60  ----  Avg Loss: 0.7662\n",
      "Epoch 23/60  ----  Avg Loss: 0.7560\n",
      "Epoch 24/60  ----  Avg Loss: 0.7464\n",
      "Epoch 25/60  ----  Avg Loss: 0.7409\n",
      "Epoch 26/60  ----  Avg Loss: 0.7328\n",
      "Epoch 27/60  ----  Avg Loss: 0.7262\n",
      "Epoch 28/60  ----  Avg Loss: 0.7194\n",
      "Epoch 29/60  ----  Avg Loss: 0.7121\n",
      "Epoch 30/60  ----  Avg Loss: 0.7062\n",
      "Epoch 31/60  ----  Avg Loss: 0.7025\n",
      "Epoch 32/60  ----  Avg Loss: 0.6982\n",
      "Epoch 33/60  ----  Avg Loss: 0.6922\n",
      "Epoch 34/60  ----  Avg Loss: 0.6872\n",
      "Epoch 35/60  ----  Avg Loss: 0.6835\n",
      "Epoch 36/60  ----  Avg Loss: 0.6821\n",
      "Epoch 37/60  ----  Avg Loss: 0.6758\n",
      "Epoch 38/60  ----  Avg Loss: 0.6721\n",
      "Epoch 39/60  ----  Avg Loss: 0.6675\n",
      "Epoch 40/60  ----  Avg Loss: 0.6670\n",
      "Epoch 41/60  ----  Avg Loss: 0.6638\n",
      "Epoch 42/60  ----  Avg Loss: 0.6594\n",
      "Epoch 43/60  ----  Avg Loss: 0.6569\n",
      "Epoch 44/60  ----  Avg Loss: 0.6558\n",
      "Epoch 45/60  ----  Avg Loss: 0.6526\n",
      "Epoch 46/60  ----  Avg Loss: 0.6498\n",
      "Epoch 47/60  ----  Avg Loss: 0.6479\n",
      "Epoch 48/60  ----  Avg Loss: 0.6449\n",
      "Epoch 49/60  ----  Avg Loss: 0.6412\n",
      "Epoch 50/60  ----  Avg Loss: 0.6400\n",
      "Epoch 51/60  ----  Avg Loss: 0.6357\n",
      "Epoch 52/60  ----  Avg Loss: 0.6365\n",
      "Epoch 53/60  ----  Avg Loss: 0.6355\n",
      "Epoch 54/60  ----  Avg Loss: 0.6347\n",
      "Epoch 55/60  ----  Avg Loss: 0.6326\n",
      "Epoch 56/60  ----  Avg Loss: 0.6290\n",
      "Epoch 57/60  ----  Avg Loss: 0.6278\n",
      "Epoch 58/60  ----  Avg Loss: 0.6275\n",
      "Epoch 59/60  ----  Avg Loss: 0.6245\n",
      "Epoch 60/60  ----  Avg Loss: 0.6253\n"
     ]
    },
    {
     "data": {
      "image/png": "[encoded data removed]",
      "text/plain": [
       "<Figure size 640x480 with 1 Axes>"
      ]
     },
     "metadata": {},
     "output_type": "display_data"
    },
    {
     "name": "stdout",
     "output_type": "stream",
     "text": [
      "\n",
      "Evaluating model\n",
      "Results:\n",
      "  'comp' -> 'companies'  * Valid word in vocab\n",
      "  'prog' -> 'programmer'  * Valid word in vocab\n",
      "  'soft' -> 'soft'  ! Not a word in vocab\n",
      "  'data' -> 'database'  * Valid word in vocab\n",
      "  'algo' -> 'algorithm'  * Valid word in vocab\n",
      "  'code' -> 'codes'  * Valid word in vocab\n",
      "  'web' -> 'webcam'  * Valid word in vocab\n",
      "  'net' -> 'networking'  * Valid word in vocab\n",
      "  'sys' -> 'system'  * Valid word in vocab\n",
      "  'hack' -> 'hacker'  * Valid word in vocab\n",
      "  'math' -> 'mathematic'  ! Not a word in vocab\n",
      "  'calc' -> 'calculation'  * Valid word in vocab\n",
      "  'stat' -> 'state'  * Valid word in vocab\n",
      "  'phys' -> 'physicial'  ! Not a word in vocab\n",
      "  'chem' -> 'chemical'  * Valid word in vocab\n",
      "  'biol' -> 'biological'  * Valid word in vocab\n",
      "  'theo' -> 'theoret'  ! Not a word in vocab\n",
      "  'exp' -> 'expense'  * Valid word in vocab\n",
      "  'res' -> 'respondents'  * Valid word in vocab\n",
      "  'lab' -> 'label'  * Valid word in vocab\n",
      "  'engin' -> 'engineer'  * Valid word in vocab\n",
      "  'mech' -> 'mechanism'  * Valid word in vocab\n",
      "  'elec' -> 'electricity'  * Valid word in vocab\n",
      "  'civil' -> 'civilization'  * Valid word in vocab\n",
      "  'aero' -> 'aerospel'  ! Not a word in vocab\n",
      "  'aut' -> 'authorized'  * Valid word in vocab\n",
      "  'robo' -> 'robot'  * Valid word in vocab\n",
      "  'desi' -> 'designed'  * Valid word in vocab\n",
      "  'bui' -> 'builds'  * Valid word in vocab\n",
      "  'tool' -> 'toolboak'  ! Not a word in vocab\n",
      "  'mana' -> 'managed'  * Valid word in vocab\n",
      "  'lead' -> 'leader'  * Valid word in vocab\n",
      "  'team' -> 'teams'  * Valid word in vocab\n",
      "  'proj' -> 'project'  * Valid word in vocab\n",
      "  'plan' -> 'planet'  * Valid word in vocab\n",
      "  'str' -> 'stream'  * Valid word in vocab\n",
      "  'mark' -> 'marker'  * Valid word in vocab\n",
      "  'sale' -> 'salent'  ! Not a word in vocab\n",
      "  'cust' -> 'customized'  * Valid word in vocab\n",
      "  'serv' -> 'server'  * Valid word in vocab\n",
      "  'univ' -> 'university'  * Valid word in vocab\n",
      "  'stud' -> 'studied'  * Valid word in vocab\n",
      "  'lear' -> 'learned'  * Valid word in vocab\n",
      "  'educ' -> 'educations'  ! Not a word in vocab\n",
      "  'sch' -> 'scheduled'  * Valid word in vocab\n",
      "  'grad' -> 'graduation'  * Valid word in vocab\n",
      "  'degr' -> 'degrees'  * Valid word in vocab\n",
      "  'cour' -> 'courts'  * Valid word in vocab\n",
      "  'exam' -> 'examined'  * Valid word in vocab\n",
      "  'tes' -> 'testimonia'  ! Not a word in vocab\n",
      "  'medi' -> 'medications'  * Valid word in vocab\n",
      "  'heal' -> 'healthcare'  * Valid word in vocab\n",
      "  'nur' -> 'nurse'  * Valid word in vocab\n",
      "  'doct' -> 'doctor'  * Valid word in vocab\n",
      "  'hosp' -> 'hospitality'  * Valid word in vocab\n",
      "  'drug' -> 'drugs'  * Valid word in vocab\n",
      "  'ther' -> 'thereof'  * Valid word in vocab\n",
      "  'tre' -> 'treating'  * Valid word in vocab\n",
      "  'diag' -> 'diagnosis'  * Valid word in vocab\n",
      "  'surg' -> 'surge'  * Valid word in vocab\n",
      "  'arti' -> 'artition'  ! Not a word in vocab\n",
      "  'des' -> 'designed'  * Valid word in vocab\n",
      "  'musi' -> 'musician'  * Valid word in vocab\n",
      "  'pain' -> 'painting'  * Valid word in vocab\n",
      "  'draw' -> 'drawing'  * Valid word in vocab\n",
      "  'writ' -> 'writer'  * Valid word in vocab\n",
      "  'poet' -> 'poetry'  * Valid word in vocab\n",
      "  'danc' -> 'dance'  * Valid word in vocab\n",
      "  'sin' -> 'singles'  * Valid word in vocab\n",
      "  'acto' -> 'actor'  * Valid word in vocab\n",
      "\n",
      "Total Score obtained---------------: 60/70\n",
      "Average Score per Sample-----------: 0.86\n"
     ]
    }
   ],
   "source": [
    "model = autocompleteModel(\n",
    "    alphabet_size=27,\n",
    "    embed_dim=EMBED_DIM,\n",
    "    hidden_size=HIDDEN_SIZE\n",
    ")\n",
    "\n",
    "print(\"Training model\")\n",
    "model.trainModel(vocab, epochs=EPOCHS, batch_size=BATCH_SIZE)\n",
    "\n",
    "print(\"\\nEvaluating model\")\n",
    "score, completions = model.evaluate(test_samples)\n",
    "\n",
    "print(f\"\\nTotal Score obtained---------------: {score}/{len(test_samples)}\")\n",
    "print(f\"Average Score per Sample-----------: {score/len(test_samples):.2f}\")"
   ]
  },
  {
   "cell_type": "code",
   "execution_count": 10,
   "id": "5ac2ab12-0cc8-48d1-816f-ab8ec7ac23cd",
   "metadata": {
    "deletable": false
   },
   "outputs": [],
   "source": [
    "best_model = model"
   ]
  },
  {
   "cell_type": "code",
   "execution_count": null,
   "id": "b6dd6174-b7bd-423e-aaff-62b9185aaaab",
   "metadata": {},
   "outputs": [],
   "source": []
  }
 ],
 "metadata": {
  "kernelspec": {
   "display_name": "Python 3 (ipykernel)",
   "language": "python",
   "name": "python3"
  },
  "language_info": {
   "codemirror_mode": {
    "name": "ipython",
    "version": 3
   },
   "file_extension": ".py",
   "mimetype": "text/x-python",
   "name": "python",
   "nbconvert_exporter": "python",
   "pygments_lexer": "ipython3",
   "version": "3.12.10"
  }
 },
 "nbformat": 4,
 "nbformat_minor": 5
}
